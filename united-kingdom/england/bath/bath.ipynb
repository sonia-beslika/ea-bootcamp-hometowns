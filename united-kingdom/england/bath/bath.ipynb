{
 "cells": [
  {
   "cell_type": "markdown",
   "metadata": {},
   "source": [
    "# Location\n",
    "51.3781° N, 2.3597° W\n",
    "\n",
    "# Population\n",
    "94,092 (2021 Census)\n",
    "[Source: Wikipedia](https://en.wikipedia.org/wiki/Bath,_Somerset)\n",
    "\n",
    "# Landmark\n",
    "![Roman Baths](Roman_Baths.jpg) \\\n",
    "*The city became a spa with the Latin name Aquae Sulis (\"the waters of Sulis\") c. 60 AD when the Romans built baths and a temple in the valley of the River Avon*"
   ]
  }
 ],
 "metadata": {
  "language_info": {
   "name": "python"
  }
 },
 "nbformat": 4,
 "nbformat_minor": 2
}
